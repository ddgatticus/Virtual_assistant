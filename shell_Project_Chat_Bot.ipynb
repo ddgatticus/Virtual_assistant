{
  "nbformat": 4,
  "nbformat_minor": 0,
  "metadata": {
    "colab": {
      "name": "shell Project Chat Bot",
      "provenance": [],
      "collapsed_sections": [],
      "authorship_tag": "ABX9TyOk4C0CBfqggCTQGVxFdcY2",
      "include_colab_link": true
    },
    "kernelspec": {
      "name": "python3",
      "display_name": "Python 3"
    }
  },
  "cells": [
    {
      "cell_type": "markdown",
      "metadata": {
        "id": "view-in-github",
        "colab_type": "text"
      },
      "source": [
        "<a href=\"https://colab.research.google.com/github/ddgatticus/Virtual_assistant/blob/Main/shell_Project_Chat_Bot.ipynb\" target=\"_parent\"><img src=\"https://colab.research.google.com/assets/colab-badge.svg\" alt=\"Open In Colab\"/></a>"
      ]
    },
    {
      "cell_type": "code",
      "metadata": {
        "id": "jBbmFsyzEpFZ"
      },
      "source": [
        "!pip install nltk"
      ],
      "execution_count": null,
      "outputs": []
    },
    {
      "cell_type": "code",
      "metadata": {
        "id": "2j5TjDv5E5-e"
      },
      "source": [
        "!pip install newspaper3k"
      ],
      "execution_count": null,
      "outputs": []
    },
    {
      "cell_type": "code",
      "metadata": {
        "id": "Ow7finf6eU6g"
      },
      "source": [
        "!pip install wikipedia"
      ],
      "execution_count": null,
      "outputs": []
    },
    {
      "cell_type": "code",
      "metadata": {
        "id": "7reDwEfEQTMM"
      },
      "source": [
        "from nltk.chat.util import Chat, reflections\n",
        "import wikipedia \n",
        "from tkinter import *\n",
        "import time\n",
        "import random\n",
        "from newspaper import Article\n",
        "import nltk\n",
        "import string\n",
        "from sklearn.feature_extraction.text import CountVectorizer\n",
        "from sklearn.metrics.pairwise import cosine_similarity\n",
        "import numpy as np\n",
        "import warnings\n",
        "warnings.filterwarnings('ignore')"
      ],
      "execution_count": null,
      "outputs": []
    },
    {
      "cell_type": "code",
      "metadata": {
        "id": "MkTKCGaGF-3z"
      },
      "source": [
        "nltk.download('punkt', quiet=True)"
      ],
      "execution_count": null,
      "outputs": []
    },
    {
      "cell_type": "code",
      "metadata": {
        "id": "9zSZYhEo6-Ai"
      },
      "source": [
        "a=time.localtime()\n",
        "c=time.asctime(a)"
      ],
      "execution_count": null,
      "outputs": []
    },
    {
      "cell_type": "code",
      "metadata": {
        "id": "cNOqKPfWQizt"
      },
      "source": [
        "answers = [\n",
        "    ['my name is (.*)', ['hi %1']],\n",
        "    ['(hi|hello|hey|ola)', ['hey', 'hey there', 'hi', 'hi there', 'hello']],\n",
        "    ['(.*) in (.*) is fun', ['%1 in %2 is indeed fun']],\n",
        "    ['(.*)(location|city)(.*) ?', ['Tokyo, Japan']],\n",
        "    ['(.*) created you?', ['Atticus Malley did using NLTK']],\n",
        "    ['how is the weather in (.*)', ['the weather in %1 is ok']],\n",
        "    ['(.*)help(.*)', ['I can help you']],\n",
        "    ['whats your name?', ['my name is PYTHANT_v.13']],\n",
        "    ['what is your name?', ['my name is PYTHANT_v.13']],\n",
        "    ['how old are you?', ['I am 3 weeks old']],\n",
        "    ['whats up', ['I am a computer, nothing can really be going on for me, besides that how are you?']],\n",
        "    ['I am good', ['thats good to hear']],\n",
        "    ['where do you live', ['Tokyo, Japan']],\n",
        "    ['where are you', ['Tokyo, Japan']],\n",
        "    ['ask me who Joe is', ['Who is Joe?']]\n",
        "]"
      ],
      "execution_count": null,
      "outputs": []
    },
    {
      "cell_type": "code",
      "metadata": {
        "id": "wzcA1TIKRqd5"
      },
      "source": [
        "reflections\n"
      ],
      "execution_count": null,
      "outputs": []
    },
    {
      "cell_type": "code",
      "metadata": {
        "id": "KJw4xef7Q4uy",
        "colab": {
          "base_uri": "https://localhost:8080/"
        },
        "outputId": "b3679c65-da0c-421c-efa3-16a75f9d9d04"
      },
      "source": [
        "print('hello I am PYTHANT_v.13, you can ask me certain questions, my creator should have provided you with a list')\n",
        "print('the time and date is', (c))\n",
        "chat = Chat(answers, reflections)\n",
        "chat.converse()"
      ],
      "execution_count": null,
      "outputs": [
        {
          "output_type": "stream",
          "text": [
            "hello I am PYTHANT_v.13, you can ask me certain questions, my creator should have provided you with a list\n",
            "the time and date is Thu Mar 25 14:18:51 2021\n"
          ],
          "name": "stdout"
        }
      ]
    }
  ]
}