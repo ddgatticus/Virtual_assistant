{
  "nbformat": 4,
  "nbformat_minor": 0,
  "metadata": {
    "colab": {
      "name": "Shell Project Wikipedia Summary",
      "provenance": [],
      "collapsed_sections": [],
      "authorship_tag": "ABX9TyOgN3mbfTplLFs8enHQn7qb",
      "include_colab_link": true
    },
    "kernelspec": {
      "display_name": "Python 3",
      "name": "python3"
    }
  },
  "cells": [
    {
      "cell_type": "markdown",
      "metadata": {
        "id": "view-in-github",
        "colab_type": "text"
      },
      "source": [
        "<a href=\"https://colab.research.google.com/github/ddgatticus/Virtual_assistant/blob/Main/Shell_Project_Wikipedia_Summary.ipynb\" target=\"_parent\"><img src=\"https://colab.research.google.com/assets/colab-badge.svg\" alt=\"Open In Colab\"/></a>"
      ]
    },
    {
      "cell_type": "code",
      "metadata": {
        "id": "iPbZYP3luh3O"
      },
      "source": [
        "!pip install wikipedia"
      ],
      "execution_count": null,
      "outputs": []
    },
    {
      "cell_type": "code",
      "metadata": {
        "id": "ioKyS8VOuiOY"
      },
      "source": [
        "import wikipedia"
      ],
      "execution_count": null,
      "outputs": []
    },
    {
      "cell_type": "code",
      "metadata": {
        "id": "ZlEv9TSYuD6p",
        "colab": {
          "base_uri": "https://localhost:8080/"
        },
        "outputId": "abbb8d3d-114b-4a32-ed32-7cafefbecb87"
      },
      "source": [
        "wikisearchquery = input('what would you like to get a summary of from wikipedia ')"
      ],
      "execution_count": null,
      "outputs": [
        {
          "output_type": "stream",
          "text": [
            "what would you like to get a summary of from wikipedia arsenal\n"
          ],
          "name": "stdout"
        }
      ]
    },
    {
      "cell_type": "code",
      "metadata": {
        "id": "sRWiHP6quYnZ",
        "colab": {
          "base_uri": "https://localhost:8080/"
        },
        "outputId": "eabee036-55ea-4779-b7ee-44116daa3da7"
      },
      "source": [
        "print(wikipedia.summary(wikisearchquery))"
      ],
      "execution_count": null,
      "outputs": [
        {
          "output_type": "stream",
          "text": [
            "An arsenal is a place where arms and ammunition are made, maintained and repaired, stored, or issued, in any combination, whether privately or publicly owned. Arsenal and armoury (British English) or armory (American English) are mostly regarded as synonyms, although subtle differences in usage exist.\n",
            "A sub-armory is a place of temporary storage or carrying of weapons and ammunition, such as any temporary post or patrol vehicle that is only operational in certain times of the day.\n"
          ],
          "name": "stdout"
        }
      ]
    }
  ]
}